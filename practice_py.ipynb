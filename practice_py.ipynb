{
  "nbformat": 4,
  "nbformat_minor": 0,
  "metadata": {
    "colab": {
      "provenance": [],
      "authorship_tag": "ABX9TyNvbiTbFqTg0Qtx62fEHlFl",
      "include_colab_link": true
    },
    "kernelspec": {
      "name": "python3",
      "display_name": "Python 3"
    },
    "language_info": {
      "name": "python"
    }
  },
  "cells": [
    {
      "cell_type": "markdown",
      "metadata": {
        "id": "view-in-github",
        "colab_type": "text"
      },
      "source": [
        "<a href=\"https://colab.research.google.com/github/Mahziyar-Yz/Python1/blob/main/practice_py.ipynb\" target=\"_parent\"><img src=\"https://colab.research.google.com/assets/colab-badge.svg\" alt=\"Open In Colab\"/></a>"
      ]
    },
    {
      "cell_type": "code",
      "execution_count": 3,
      "metadata": {
        "id": "Bm4jynNSeR-M",
        "colab": {
          "base_uri": "https://localhost:8080/"
        },
        "outputId": "f2b2faf7-7fb6-4d3e-d567-9dbf3ba8b06b"
      },
      "outputs": [
        {
          "output_type": "stream",
          "name": "stdout",
          "text": [
            "welcome\n",
            "1.pizza,2.sandwich,3.beverages,0.exit:1\n",
            "1.pitza gosht,2.pitza peperony,3.pitza makhlot,0.marhale ghabl:1\n",
            "tedad ra vared konid:20\n",
            "gheymat ra vared konid:24444\n",
            "welcome\n",
            "1.pizza,2.sandwich,3.beverages,0.exit:3\n",
            "1.noshabe ,2.dogh,3.delestr,0.marhale ghabl:3\n",
            "tedad ra vared konid:3\n",
            "gheymat ra vared konid:3444\n",
            "welcome\n",
            "1.pizza,2.sandwich,3.beverages,0.exit:0\n",
            "-------------------- \n",
            " [['pitza gosht', 20, 24444.0, 488880.0], ['delestr', 3, 3444.0, 10332.0]]\n",
            "-------------------- \n",
            " gheymat kol 499212.0\n"
          ]
        }
      ],
      "source": [
        "# pizza shop\n",
        "l=[]\n",
        "t=[]\n",
        "while True:\n",
        "     print(\"welcome\")\n",
        "     menu=int(input(\"1.pizza,2.sandwich,3.beverages,0.exit:\"))\n",
        "     def orders (x,v):\n",
        "\n",
        "       l.append(x)\n",
        "       t.append(v)\n",
        "\n",
        "     if menu==1:\n",
        "\n",
        "       menu_p=int(input(\"1.meat pizza,2.pepperoni pizza,3.mix pizza,0.return:\"))\n",
        "\n",
        "       if menu_p==1:\n",
        "         number=int(input(\"enter the number:\"))\n",
        "         price=float(input(\"enter the price:\"))\n",
        "         orders (([\"meat pizza\"]+[number]+[price]+[price*number]),(price*number))\n",
        "\n",
        "       elif menu_p==2:\n",
        "         number=int(input(\"enter the number::\"))\n",
        "         price=float(input(\"enter the price:\"))\n",
        "         orders (([\"pepperoni pizza\"]+[number]+[price]+[price*number]),(price*number))\n",
        "\n",
        "       elif menu_p==3:\n",
        "         number=int(input(\"enter the number:\"))\n",
        "         price=float(input(\"enter the price:\"))\n",
        "         orders (([\"mix pizza\"]+[number]+[price]+[price*number]),(price*number))\n",
        "\n",
        "       elif menu_p==0:\n",
        "          continue\n",
        "\n",
        "\n",
        "     elif menu==2:\n",
        "       menu_s=int(input(\"1.hot dog,2.hamburger,3.cheeseburger,0.return:\"))\n",
        "\n",
        "       if menu_s==1:\n",
        "         number=int(input(\"enter the number:\"))\n",
        "         price=float(input(\"enter the price:\"))\n",
        "         orders (([\"hot dog\"]+[number]+[price]+[price*number]),(price*number))\n",
        "\n",
        "       elif menu_s==2:\n",
        "         number=int(input(\"enter the number:\"))\n",
        "         price=float(input(\"enter the price:\"))\n",
        "         orders (([\"hamburger\"]+[number]+[price]+[price*number]),(price*number))\n",
        "\n",
        "       elif menu_s==3:\n",
        "         number=int(input(\"enter the number:\"))\n",
        "         price=float(input(\"enter the price:\"))\n",
        "         orders (([\"cheeseburger\"]+[number]+[price]+[price*number]),(price*number))\n",
        "\n",
        "       elif menu_s==0:\n",
        "          continue\n",
        "\n",
        "\n",
        "     elif menu==3:\n",
        "\n",
        "       menu_b=int(input(\"1.cola ,2.orange juice,3.beer,0.return:\"))\n",
        "       if menu_b==1:\n",
        "         number=int(input(\"enter the number:\"))\n",
        "         price=float(input(\"enter the price:\"))\n",
        "         orders (([\"cola\"]+[number]+[price]+[price*number]),(price*number))\n",
        "\n",
        "       elif menu_b==2:\n",
        "         number=int(input(\"enter the number:\"))\n",
        "         price=float(input(\"enter the price:\"))\n",
        "         orders (([\"orange juice\"]+[number]+[price]+[price*number]),(price*number))\n",
        "\n",
        "       elif menu_b==3:\n",
        "         number=int(input(\"enter the number:\"))\n",
        "         price=float(input(\"enter the price:\"))\n",
        "         orders (([\"beer\"]+[number]+[price]+[price*number]),(price*number))\n",
        "\n",
        "       elif menu_b==0:\n",
        "          continue\n",
        "\n",
        "     elif menu==0:\n",
        "       break\n",
        "\n",
        "     else:\n",
        "       print(\"the number is wrong\")\n",
        "\n",
        "print(\"-\"*20,\"\\n\",h)\n",
        "print(\"-\"*20,\"\\n total cost\",sum(k))\n",
        "\n"
      ]
    }
  ]
}